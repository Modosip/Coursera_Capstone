{
 "cells": [
  {
   "cell_type": "code",
   "execution_count": 2,
   "metadata": {},
   "outputs": [
    {
     "name": "stdout",
     "output_type": "stream",
     "text": [
      "Done!\n"
     ]
    }
   ],
   "source": [
    "\n",
    "# !conda install -c conda-forge folium=0.5.0 --yes\n",
    "# !conda install -c conda-forge geopy --yes\n",
    "import pandas as pd\n",
    "import numpy as np\n",
    "pd.set_option('display.max_columns', 100)\n",
    "pd.set_option('display.max_rows',500)\n",
    "import json\n",
    "import requests #\n",
    "from pandas import json_normalize\n",
    "import matplotlib.cm as cm\n",
    "import matplotlib.colors as colors\n",
    "from sklearn.cluster import KMeans\n",
    "from geopy.geocoders import Nominatim\n",
    "import folium # map rendering library\n",
    "# !pip install lxml\n",
    "import lxml\n",
    "import time\n",
    "print('Done!')"
   ]
  },
  {
   "cell_type": "markdown",
   "metadata": {},
   "source": [
    "### Get Data from WiKi"
   ]
  },
  {
   "cell_type": "code",
   "execution_count": 3,
   "metadata": {},
   "outputs": [],
   "source": [
    "# Get data from wiki\n",
    "url='https://en.wikipedia.org/wiki/List_of_postal_codes_of_Canada:_M'\n",
    "data = pd.read_html(url)"
   ]
  },
  {
   "cell_type": "code",
   "execution_count": 6,
   "metadata": {},
   "outputs": [
    {
     "data": {
      "text/html": [
       "<div>\n",
       "<style scoped>\n",
       "    .dataframe tbody tr th:only-of-type {\n",
       "        vertical-align: middle;\n",
       "    }\n",
       "\n",
       "    .dataframe tbody tr th {\n",
       "        vertical-align: top;\n",
       "    }\n",
       "\n",
       "    .dataframe thead th {\n",
       "        text-align: right;\n",
       "    }\n",
       "</style>\n",
       "<table border=\"1\" class=\"dataframe\">\n",
       "  <thead>\n",
       "    <tr style=\"text-align: right;\">\n",
       "      <th></th>\n",
       "      <th>Postal Code</th>\n",
       "      <th>Borough</th>\n",
       "      <th>Neighborhood</th>\n",
       "    </tr>\n",
       "  </thead>\n",
       "  <tbody>\n",
       "    <tr>\n",
       "      <th>0</th>\n",
       "      <td>M3A</td>\n",
       "      <td>North York</td>\n",
       "      <td>[Parkwoods]</td>\n",
       "    </tr>\n",
       "    <tr>\n",
       "      <th>1</th>\n",
       "      <td>M4A</td>\n",
       "      <td>North York</td>\n",
       "      <td>[Victoria Village]</td>\n",
       "    </tr>\n",
       "    <tr>\n",
       "      <th>2</th>\n",
       "      <td>M5A</td>\n",
       "      <td>Downtown Toronto</td>\n",
       "      <td>[Regent Park,  Harbourfront]</td>\n",
       "    </tr>\n",
       "    <tr>\n",
       "      <th>3</th>\n",
       "      <td>M6A</td>\n",
       "      <td>North York</td>\n",
       "      <td>[Lawrence Manor,  Lawrence Heights]</td>\n",
       "    </tr>\n",
       "    <tr>\n",
       "      <th>4</th>\n",
       "      <td>M7A</td>\n",
       "      <td>Downtown Toronto</td>\n",
       "      <td>[Queen's Park,  Ontario Provincial Government]</td>\n",
       "    </tr>\n",
       "  </tbody>\n",
       "</table>\n",
       "</div>"
      ],
      "text/plain": [
       "  Postal Code           Borough  \\\n",
       "0         M3A        North York   \n",
       "1         M4A        North York   \n",
       "2         M5A  Downtown Toronto   \n",
       "3         M6A        North York   \n",
       "4         M7A  Downtown Toronto   \n",
       "\n",
       "                                     Neighborhood  \n",
       "0                                     [Parkwoods]  \n",
       "1                              [Victoria Village]  \n",
       "2                    [Regent Park,  Harbourfront]  \n",
       "3             [Lawrence Manor,  Lawrence Heights]  \n",
       "4  [Queen's Park,  Ontario Provincial Government]  "
      ]
     },
     "execution_count": 6,
     "metadata": {},
     "output_type": "execute_result"
    }
   ],
   "source": [
    "df_temp= pd.DataFrame(data[0])\n",
    "df_temp.dropna(axis=0, inplace=True) # Drop all NaN values from dataframe's rows - it's empty Neighborhood and 'Not assigned'Borough\n",
    "df_temp.reset_index(inplace=True) # reset index\n",
    "df_temp.drop(columns='index',inplace=True) # delete old index column\n",
    "df_temp.Neighborhood=[x.split(',') for x in df_temp.Neighborhood] # change values in Neighborhood in array\n",
    "column_names = ['PostalCode','Borough', 'Neighborhood'] # prepare new dataframe\n",
    "df  = pd.DataFrame(columns=column_names) # new dataframe\n",
    "df_temp.head()"
   ]
  },
  {
   "cell_type": "code",
   "execution_count": 7,
   "metadata": {},
   "outputs": [
    {
     "data": {
      "text/html": [
       "<div>\n",
       "<style scoped>\n",
       "    .dataframe tbody tr th:only-of-type {\n",
       "        vertical-align: middle;\n",
       "    }\n",
       "\n",
       "    .dataframe tbody tr th {\n",
       "        vertical-align: top;\n",
       "    }\n",
       "\n",
       "    .dataframe thead th {\n",
       "        text-align: right;\n",
       "    }\n",
       "</style>\n",
       "<table border=\"1\" class=\"dataframe\">\n",
       "  <thead>\n",
       "    <tr style=\"text-align: right;\">\n",
       "      <th></th>\n",
       "      <th>PostalCode</th>\n",
       "      <th>Borough</th>\n",
       "      <th>Neighborhood</th>\n",
       "    </tr>\n",
       "  </thead>\n",
       "  <tbody>\n",
       "  </tbody>\n",
       "</table>\n",
       "</div>"
      ],
      "text/plain": [
       "Empty DataFrame\n",
       "Columns: [PostalCode, Borough, Neighborhood]\n",
       "Index: []"
      ]
     },
     "execution_count": 7,
     "metadata": {},
     "output_type": "execute_result"
    }
   ],
   "source": [
    "df"
   ]
  },
  {
   "cell_type": "code",
   "execution_count": 8,
   "metadata": {},
   "outputs": [
    {
     "name": "stdout",
     "output_type": "stream",
     "text": [
      "   PostalCode           Borough                    Neighborhood\n",
      "0         M3A        North York                       Parkwoods\n",
      "1         M4A        North York                Victoria Village\n",
      "2         M5A  Downtown Toronto                     Regent Park\n",
      "3         M5A  Downtown Toronto                    Harbourfront\n",
      "4         M6A        North York                  Lawrence Manor\n",
      "5         M6A        North York                Lawrence Heights\n",
      "6         M7A  Downtown Toronto                    Queen's Park\n",
      "7         M7A  Downtown Toronto   Ontario Provincial Government\n",
      "8         M9A         Etobicoke                Islington Avenue\n",
      "9         M1B       Scarborough                         Malvern\n",
      "10        M1B       Scarborough                           Rouge\n",
      "11        M3B        North York                       Don Mills\n",
      "12        M4B         East York                   Parkview Hill\n",
      "13        M4B         East York                Woodbine Gardens\n",
      "14        M5B  Downtown Toronto                 Garden District\n",
      "15        M5B  Downtown Toronto                         Ryerson\n",
      "16        M6B        North York                       Glencairn\n",
      "17        M9B         Etobicoke                 West Deane Park\n",
      "18        M9B         Etobicoke                Princess Gardens\n",
      "19        M9B         Etobicoke                    Martin Grove\n",
      "20        M9B         Etobicoke                       Islington\n",
      "21        M9B         Etobicoke                      Cloverdale\n",
      "22        M1C       Scarborough                      Rouge Hill\n",
      "23        M1C       Scarborough                      Port Union\n",
      "24        M1C       Scarborough                  Highland Creek\n",
      "25        M3C        North York                       Don Mills\n",
      "26        M4C         East York                Woodbine Heights\n",
      "27        M5C  Downtown Toronto                  St. James Town\n",
      "28        M6C              York              Humewood-Cedarvale\n",
      "29        M9C         Etobicoke                        Eringate\n",
      "Shape: (209, 3)\t\t\tTime: 1.63\n"
     ]
    }
   ],
   "source": [
    "ts=time.time()\n",
    "for index, x in enumerate(df_temp.Neighborhood): # filll new dataframe values. One Neighborhood - one row \n",
    "    for neigh in x:\n",
    "        df = df.append ({'PostalCode':df_temp['Postal Code'][index],\n",
    "                         'Borough':df_temp.Borough[index],\n",
    "                         'Neighborhood':neigh },ignore_index=True)\n",
    "df=df[column_names]\n",
    "print(df.head())\n",
    "print('Shape: {}\\t\\t\\tTime: {:.2f}' .format(df.shape, time.time()-ts))"
   ]
  },
  {
   "cell_type": "markdown",
   "metadata": {},
   "source": [
    "### Get Data Location from WiKi"
   ]
  },
  {
   "cell_type": "code",
   "execution_count": null,
   "metadata": {},
   "outputs": [],
   "source": []
  }
 ],
 "metadata": {
  "kernelspec": {
   "display_name": "Python",
   "language": "python",
   "name": "conda-env-python-py"
  },
  "language_info": {
   "codemirror_mode": {
    "name": "ipython",
    "version": 3
   },
   "file_extension": ".py",
   "mimetype": "text/x-python",
   "name": "python",
   "nbconvert_exporter": "python",
   "pygments_lexer": "ipython3",
   "version": "3.6.10"
  }
 },
 "nbformat": 4,
 "nbformat_minor": 4
}
